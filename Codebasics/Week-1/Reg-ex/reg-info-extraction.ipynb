{
 "cells": [
  {
   "cell_type": "code",
   "execution_count": 3,
   "metadata": {},
   "outputs": [],
   "source": [
    "import re"
   ]
  },
  {
   "cell_type": "code",
   "execution_count": 6,
   "metadata": {},
   "outputs": [],
   "source": [
    "text = \"\"\"\n",
    "Born\tElon Reeve Musk\n",
    "June 28, 1971 (age 52)\n",
    "Pretoria, Transvaal, South Africa\n",
    "Citizenship\t\n",
    "South Africa\n",
    "Canada\n",
    "United States\n",
    "Education\tUniversity of Pennsylvania (BA, BS)\n",
    "Title\t\n",
    "Founder, CEO, and chief engineer of SpaceX\n",
    "CEO and product architect of Tesla, Inc.\n",
    "Owner, CTO and Executive Chairman of X (formerly Twitter)\n",
    "President of the Musk Foundation\n",
    "Founder of The Boring Company, X Corp., and xAI\n",
    "Co-founder of Neuralink, OpenAI, Zip2, and X.com (part of PayPal)\n",
    "Spouses\t\n",
    "Justine Wilson\n",
    "​\n",
    "​(m. 2000; div. 2008)​\n",
    "Talulah Riley\n",
    "​\n",
    "​(m. 2010; div. 2012)​\n",
    "​\n",
    "​(m. 2013; div. 2016)​\n",
    "Partners\t\n",
    "Amber Heard (2015–2017)[1]\n",
    "Grimes (2018–2021)[2]\n",
    "Children\t11[a][4]\n",
    "Parents\t\n",
    "Errol Musk\n",
    "Maye Musk\n",
    "Relatives\t\n",
    "Kimbal Musk (brother)\n",
    "Tosca Musk (sister)\n",
    "Lyndon Rive (cousin)\n",
    "Family\tMusk family\n",
    "this programmer name is alamin and his age 24\n",
    "\"\"\""
   ]
  },
  {
   "cell_type": "code",
   "execution_count": 7,
   "metadata": {},
   "outputs": [
    {
     "name": "stderr",
     "output_type": "stream",
     "text": [
      "<>:1: SyntaxWarning: invalid escape sequence '\\d'\n",
      "<>:1: SyntaxWarning: invalid escape sequence '\\d'\n",
      "C:\\Users\\IT BD\\AppData\\Local\\Temp\\ipykernel_3460\\1841919661.py:1: SyntaxWarning: invalid escape sequence '\\d'\n",
      "  agePattern = 'age (\\d+)'\n"
     ]
    }
   ],
   "source": [
    "agePattern = 'age (\\d+)'\n",
    "matches = re.findall(agePattern, text)"
   ]
  },
  {
   "cell_type": "code",
   "execution_count": 8,
   "metadata": {},
   "outputs": [
    {
     "data": {
      "text/plain": [
       "['52', '24']"
      ]
     },
     "execution_count": 8,
     "metadata": {},
     "output_type": "execute_result"
    }
   ],
   "source": [
    "matches"
   ]
  },
  {
   "cell_type": "code",
   "execution_count": 9,
   "metadata": {},
   "outputs": [
    {
     "data": {
      "text/plain": [
       "['\\tElon Reeve Musk']"
      ]
     },
     "execution_count": 9,
     "metadata": {},
     "output_type": "execute_result"
    }
   ],
   "source": [
    "bornFamilyPattern = 'Born(.*)'\n",
    "bornFamilyPatternMatche = re.findall(bornFamilyPattern, text)\n",
    "bornFamilyPatternMatche"
   ]
  },
  {
   "cell_type": "code",
   "execution_count": 10,
   "metadata": {},
   "outputs": [
    {
     "data": {
      "text/plain": [
       "'Elon Reeve Musk'"
      ]
     },
     "execution_count": 10,
     "metadata": {},
     "output_type": "execute_result"
    }
   ],
   "source": [
    "bornFamilyPatternMatche[0].strip()"
   ]
  },
  {
   "cell_type": "code",
   "execution_count": 11,
   "metadata": {},
   "outputs": [
    {
     "name": "stderr",
     "output_type": "stream",
     "text": [
      "<>:1: SyntaxWarning: invalid escape sequence '\\('\n",
      "<>:1: SyntaxWarning: invalid escape sequence '\\('\n",
      "C:\\Users\\IT BD\\AppData\\Local\\Temp\\ipykernel_3460\\757862747.py:1: SyntaxWarning: invalid escape sequence '\\('\n",
      "  dob_pattern = 'Born.*\\n(.*)\\(age'\n"
     ]
    }
   ],
   "source": [
    "dob_pattern = 'Born.*\\n(.*)\\(age'\n",
    "dobMatches = re.findall(dob_pattern, text)"
   ]
  },
  {
   "cell_type": "code",
   "execution_count": 12,
   "metadata": {},
   "outputs": [
    {
     "data": {
      "text/plain": [
       "['June 28, 1971 ']"
      ]
     },
     "execution_count": 12,
     "metadata": {},
     "output_type": "execute_result"
    }
   ],
   "source": [
    "dobMatches"
   ]
  },
  {
   "cell_type": "code",
   "execution_count": 13,
   "metadata": {},
   "outputs": [
    {
     "name": "stderr",
     "output_type": "stream",
     "text": [
      "<>:1: SyntaxWarning: invalid escape sequence '\\('\n",
      "<>:1: SyntaxWarning: invalid escape sequence '\\('\n",
      "C:\\Users\\IT BD\\AppData\\Local\\Temp\\ipykernel_3460\\235281797.py:1: SyntaxWarning: invalid escape sequence '\\('\n",
      "  birthPlacePattern = '\\(age.*\\n(.*)'\n"
     ]
    },
    {
     "data": {
      "text/plain": [
       "['Pretoria, Transvaal, South Africa']"
      ]
     },
     "execution_count": 13,
     "metadata": {},
     "output_type": "execute_result"
    }
   ],
   "source": [
    "birthPlacePattern = '\\(age.*\\n(.*)'\n",
    "matchPlaces = re.findall(birthPlacePattern, text)\n",
    "matchPlaces"
   ]
  },
  {
   "cell_type": "code",
   "execution_count": 15,
   "metadata": {},
   "outputs": [],
   "source": [
    "def getPatterMatch(pattern, text):\n",
    "    matches = re.findall(pattern, text)\n",
    "    if matches:\n",
    "        return matches"
   ]
  },
  {
   "cell_type": "code",
   "execution_count": 24,
   "metadata": {},
   "outputs": [
    {
     "name": "stderr",
     "output_type": "stream",
     "text": [
      "<>:2: SyntaxWarning: invalid escape sequence '\\d'\n",
      "<>:4: SyntaxWarning: invalid escape sequence '\\('\n",
      "<>:5: SyntaxWarning: invalid escape sequence '\\('\n",
      "<>:2: SyntaxWarning: invalid escape sequence '\\d'\n",
      "<>:4: SyntaxWarning: invalid escape sequence '\\('\n",
      "<>:5: SyntaxWarning: invalid escape sequence '\\('\n",
      "C:\\Users\\IT BD\\AppData\\Local\\Temp\\ipykernel_3460\\2593508971.py:2: SyntaxWarning: invalid escape sequence '\\d'\n",
      "  age = getPatterMatch('age (\\d+)', text)\n",
      "C:\\Users\\IT BD\\AppData\\Local\\Temp\\ipykernel_3460\\2593508971.py:4: SyntaxWarning: invalid escape sequence '\\('\n",
      "  birth_date = getPatterMatch('Born.*\\n(.*)\\(age', text)\n",
      "C:\\Users\\IT BD\\AppData\\Local\\Temp\\ipykernel_3460\\2593508971.py:5: SyntaxWarning: invalid escape sequence '\\('\n",
      "  birth_place = getPatterMatch('\\(age.*\\n(.*)', text)\n"
     ]
    }
   ],
   "source": [
    "def getPersonInformation(text):\n",
    "    age = getPatterMatch('age (\\d+)', text)\n",
    "    full_name = getPatterMatch('Born(.*)', text)\n",
    "    birth_date = getPatterMatch('Born.*\\n(.*)\\(age', text)\n",
    "    birth_place = getPatterMatch('\\(age.*\\n(.*)', text)\n",
    "    \n",
    "    return {\n",
    "        'age' : age,\n",
    "        'name' : full_name[0].strip(),\n",
    "        'birth_date' : birth_date[0].strip(),\n",
    "        'birth_place' : birth_place[0].strip()\n",
    "    }"
   ]
  },
  {
   "cell_type": "code",
   "execution_count": 25,
   "metadata": {},
   "outputs": [
    {
     "data": {
      "text/plain": [
       "{'age': ['52', '24'],\n",
       " 'name': 'Elon Reeve Musk',\n",
       " 'birth_date': 'June 28, 1971',\n",
       " 'birth_place': 'Pretoria, Transvaal, South Africa'}"
      ]
     },
     "execution_count": 25,
     "metadata": {},
     "output_type": "execute_result"
    }
   ],
   "source": [
    "getPersonInformation(text)"
   ]
  },
  {
   "cell_type": "code",
   "execution_count": null,
   "metadata": {},
   "outputs": [],
   "source": []
  }
 ],
 "metadata": {
  "kernelspec": {
   "display_name": "Python 3",
   "language": "python",
   "name": "python3"
  },
  "language_info": {
   "codemirror_mode": {
    "name": "ipython",
    "version": 3
   },
   "file_extension": ".py",
   "mimetype": "text/x-python",
   "name": "python",
   "nbconvert_exporter": "python",
   "pygments_lexer": "ipython3",
   "version": "3.12.1"
  }
 },
 "nbformat": 4,
 "nbformat_minor": 2
}
