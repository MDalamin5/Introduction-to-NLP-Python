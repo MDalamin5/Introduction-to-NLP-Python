{
 "cells": [
  {
   "cell_type": "code",
   "execution_count": 3,
   "metadata": {},
   "outputs": [],
   "source": [
    "import spacy\n",
    "nlp = spacy.load(\"en_core_web_sm\")"
   ]
  },
  {
   "cell_type": "markdown",
   "metadata": {},
   "source": [
    "<h3>Read a new story</h3>"
   ]
  },
  {
   "cell_type": "code",
   "execution_count": 9,
   "metadata": {
    "scrolled": true
   },
   "outputs": [],
   "source": [
    "aRandomStory = \"\"\"\n",
    "random.seed() function initializes the random number generator with the given value.\n",
    "\n",
    "The random.seed(a=None, version=2) function takes the following two arguments:\n",
    "this is a random number 2. \n",
    "this is a random number 3. \n",
    "this is a random number 22. \n",
    "this is a random number 42. \n",
    "If a is omitted or None, the current system time is used. If randomness sources are provided by the operating system, they are used instead of the system time. And if a is an int, it is used directly.\n",
    "With version=2 (which has become the default since Python 3.2), a str, bytes, or bytearray object gets converted to an int and all of its bits are used. In version 1, the hash() of a was being used instead.\n",
    "The seed is given an integer value to ensure that the results of pseudo-random generation are reproducible. By re-using a seed value, the same sequence should be reproducible from run to run as long as multiple threads are not running. Reproducibility is a very important concept that ensures that anyone who re-runs the code gets the exact same outputs.\n",
    "\"\"\""
   ]
  },
  {
   "cell_type": "markdown",
   "metadata": {},
   "source": [
    "<h3>Extract NOUN and NUM tokens</h3>"
   ]
  },
  {
   "cell_type": "code",
   "execution_count": 17,
   "metadata": {},
   "outputs": [],
   "source": [
    "doc = nlp(aRandomStory)\n",
    "noun = []\n",
    "num = []\n",
    "for token in doc:\n",
    "    if token.pos_ == 'NOUN':\n",
    "        noun.append(token.text)\n",
    "    elif token.pos_ == 'NUM':\n",
    "        num.append(token.text)\n",
    "    # print(token.text, \"-->\", token.tag_, \"-->\", spacy.explain(token.tag_))\n"
   ]
  },
  {
   "cell_type": "code",
   "execution_count": 15,
   "metadata": {
    "scrolled": true
   },
   "outputs": [
    {
     "data": {
      "text/plain": [
       "['random.seed',\n",
       " 'function',\n",
       " 'number',\n",
       " 'generator',\n",
       " 'value',\n",
       " '=',\n",
       " 'function',\n",
       " 'arguments',\n",
       " 'number',\n",
       " 'number',\n",
       " 'number',\n",
       " 'number',\n",
       " 'None',\n",
       " 'system',\n",
       " 'time',\n",
       " 'randomness',\n",
       " 'sources',\n",
       " 'operating',\n",
       " 'system',\n",
       " 'system',\n",
       " 'time',\n",
       " 'int',\n",
       " 'default',\n",
       " 'str',\n",
       " 'bytes',\n",
       " 'object',\n",
       " 'int',\n",
       " 'bits',\n",
       " 'version',\n",
       " 'hash',\n",
       " 'seed',\n",
       " 'integer',\n",
       " 'value',\n",
       " 'results',\n",
       " 'generation',\n",
       " 're',\n",
       " 'seed',\n",
       " 'value',\n",
       " 'sequence',\n",
       " 'run',\n",
       " 'threads',\n",
       " 'Reproducibility',\n",
       " 'concept',\n",
       " 'code',\n",
       " 'outputs']"
      ]
     },
     "execution_count": 15,
     "metadata": {},
     "output_type": "execute_result"
    }
   ],
   "source": [
    "noun"
   ]
  },
  {
   "cell_type": "code",
   "execution_count": 16,
   "metadata": {
    "scrolled": true
   },
   "outputs": [
    {
     "data": {
      "text/plain": [
       "['two', '2', '3', '22', '42', '3.2', '1']"
      ]
     },
     "execution_count": 16,
     "metadata": {},
     "output_type": "execute_result"
    }
   ],
   "source": [
    "num"
   ]
  },
  {
   "cell_type": "markdown",
   "metadata": {},
   "source": [
    "<h3>Print a count of all POS tags</h3>"
   ]
  },
  {
   "cell_type": "code",
   "execution_count": 18,
   "metadata": {},
   "outputs": [
    {
     "data": {
      "text/plain": [
       "{103: 10,\n",
       " 92: 45,\n",
       " 97: 30,\n",
       " 100: 25,\n",
       " 90: 24,\n",
       " 84: 16,\n",
       " 85: 11,\n",
       " 96: 5,\n",
       " 93: 7,\n",
       " 95: 15,\n",
       " 87: 21,\n",
       " 98: 7,\n",
       " 89: 4,\n",
       " 86: 6,\n",
       " 94: 3}"
      ]
     },
     "execution_count": 18,
     "metadata": {},
     "output_type": "execute_result"
    }
   ],
   "source": [
    "import spacy.attrs\n",
    "\n",
    "\n",
    "count = doc.count_by(spacy.attrs.POS)\n",
    "count"
   ]
  },
  {
   "cell_type": "code",
   "execution_count": 23,
   "metadata": {},
   "outputs": [
    {
     "name": "stdout",
     "output_type": "stream",
     "text": [
      "SPACE ==> 10\n",
      "NOUN ==> 45\n",
      "PUNCT ==> 30\n",
      "VERB ==> 25\n",
      "DET ==> 24\n",
      "ADJ ==> 16\n",
      "ADP ==> 11\n",
      "PROPN ==> 5\n",
      "NUM ==> 7\n",
      "PRON ==> 15\n",
      "AUX ==> 21\n",
      "SCONJ ==> 7\n",
      "CCONJ ==> 4\n",
      "ADV ==> 6\n",
      "PART ==> 3\n"
     ]
    }
   ],
   "source": [
    "for k, v in count.items():\n",
    "    print(doc.vocab[k].text, \"==>\", v)"
   ]
  },
  {
   "cell_type": "code",
   "execution_count": null,
   "metadata": {},
   "outputs": [],
   "source": []
  }
 ],
 "metadata": {
  "kernelspec": {
   "display_name": "Python 3",
   "language": "python",
   "name": "python3"
  },
  "language_info": {
   "codemirror_mode": {
    "name": "ipython",
    "version": 3
   },
   "file_extension": ".py",
   "mimetype": "text/x-python",
   "name": "python",
   "nbconvert_exporter": "python",
   "pygments_lexer": "ipython3",
   "version": "3.12.1"
  }
 },
 "nbformat": 4,
 "nbformat_minor": 4
}
