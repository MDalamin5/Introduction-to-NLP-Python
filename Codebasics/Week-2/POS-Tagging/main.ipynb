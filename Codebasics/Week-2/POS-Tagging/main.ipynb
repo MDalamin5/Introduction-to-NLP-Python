{
 "cells": [
  {
   "cell_type": "code",
   "execution_count": 1,
   "metadata": {},
   "outputs": [],
   "source": [
    "import spacy"
   ]
  },
  {
   "cell_type": "code",
   "execution_count": 2,
   "metadata": {},
   "outputs": [
    {
     "name": "stdout",
     "output_type": "stream",
     "text": [
      "test\n"
     ]
    }
   ],
   "source": [
    "print('test')"
   ]
  },
  {
   "cell_type": "code",
   "execution_count": 3,
   "metadata": {},
   "outputs": [],
   "source": [
    "nlp = spacy.load('en_core_web_sm')"
   ]
  },
  {
   "cell_type": "code",
   "execution_count": 4,
   "metadata": {},
   "outputs": [
    {
     "name": "stdout",
     "output_type": "stream",
     "text": [
      "Elon -> PROPN\n",
      "flew -> VERB\n",
      "to -> ADP\n",
      "mars -> NOUN\n",
      "yesterday -> NOUN\n",
      ". -> PUNCT\n",
      "He -> PRON\n",
      "carried -> VERB\n",
      "biryani -> ADJ\n",
      "masala -> NOUN\n",
      "with -> ADP\n",
      "him -> PRON\n"
     ]
    }
   ],
   "source": [
    "doc = nlp(\"Elon flew to mars yesterday. He carried biryani masala with him\")\n",
    "for token in doc:\n",
    "    print(token.text, \"->\", token.pos_)"
   ]
  },
  {
   "cell_type": "code",
   "execution_count": 5,
   "metadata": {},
   "outputs": [
    {
     "name": "stdout",
     "output_type": "stream",
     "text": [
      "Elon -> PROPN -> proper noun\n",
      "flew -> VERB -> verb\n",
      "to -> ADP -> adposition\n",
      "mars -> NOUN -> noun\n",
      "yesterday -> NOUN -> noun\n",
      ". -> PUNCT -> punctuation\n",
      "He -> PRON -> pronoun\n",
      "carried -> VERB -> verb\n",
      "biryani -> ADJ -> adjective\n",
      "masala -> NOUN -> noun\n",
      "with -> ADP -> adposition\n",
      "him -> PRON -> pronoun\n"
     ]
    }
   ],
   "source": [
    "for token in doc:\n",
    "    print(token.text, \"->\", token.pos_, \"->\", spacy.explain(token.pos_))"
   ]
  },
  {
   "cell_type": "code",
   "execution_count": 6,
   "metadata": {},
   "outputs": [
    {
     "name": "stdout",
     "output_type": "stream",
     "text": [
      "Wow --> INTJ --> interjection --> UH --> interjection\n",
      "! --> PUNCT --> punctuation --> . --> punctuation mark, sentence closer\n",
      "Dr. --> PROPN --> proper noun --> NNP --> noun, proper singular\n",
      "Strange --> PROPN --> proper noun --> NNP --> noun, proper singular\n",
      "made --> VERB --> verb --> VBD --> verb, past tense\n",
      "256 --> NUM --> numeral --> CD --> cardinal number\n",
      "million --> NUM --> numeral --> CD --> cardinal number\n",
      "$ --> SYM --> symbol --> $ --> symbol, currency\n",
      "on --> ADP --> adposition --> IN --> conjunction, subordinating or preposition\n",
      "the --> DET --> determiner --> DT --> determiner\n",
      "very --> ADV --> adverb --> RB --> adverb\n",
      "first --> ADJ --> adjective --> JJ --> adjective (English), other noun-modifier (Chinese)\n",
      "day --> NOUN --> noun --> NN --> noun, singular or mass\n",
      "of --> ADP --> adposition --> IN --> conjunction, subordinating or preposition\n",
      "his --> PRON --> pronoun --> PRP$ --> pronoun, possessive\n",
      "Movi --> PROPN --> proper noun --> NNP --> noun, proper singular\n"
     ]
    }
   ],
   "source": [
    "doc = nlp(\"Wow! Dr. Strange made 256 million $ on the very first day of his Movi\")\n",
    "for token in doc:\n",
    "    print(token.text, \"-->\", token.pos_, \"-->\", spacy.explain(token.pos_), \"-->\", token.tag_, \"-->\", spacy.explain(token.tag_))"
   ]
  },
  {
   "cell_type": "code",
   "execution_count": 8,
   "metadata": {},
   "outputs": [
    {
     "name": "stdout",
     "output_type": "stream",
     "text": [
      "quits --> VBZ --> verb, 3rd person singular present\n"
     ]
    }
   ],
   "source": [
    "doc = nlp('He quits the job')\n",
    "doc[1]\n",
    "print(doc[1].text, \"-->\", doc[1].tag_, \"-->\", spacy.explain(doc[1].tag_))"
   ]
  },
  {
   "cell_type": "code",
   "execution_count": 9,
   "metadata": {},
   "outputs": [
    {
     "name": "stdout",
     "output_type": "stream",
     "text": [
      "quit --> VBD --> verb, past tense\n"
     ]
    }
   ],
   "source": [
    "doc = nlp('He quit the job')\n",
    "doc[1]\n",
    "print(doc[1].text, \"-->\", doc[1].tag_, \"-->\", spacy.explain(doc[1].tag_))"
   ]
  },
  {
   "cell_type": "code",
   "execution_count": 12,
   "metadata": {},
   "outputs": [],
   "source": [
    "earnings_text = \"\"\"\n",
    " Microsoft Corp. today announced the following results for the quarter ended December 31, 2023, as compared to the corresponding period of last fiscal year:\n",
    "\n",
    "·        Revenue was $62.0 billion and increased 18% (up 16% in constant currency)\n",
    "\n",
    "·        Operating income was $27.0 billion and increased 33%, and increased 25% non-GAAP (up 23% in constant currency)\n",
    "\n",
    "·        Net income was $21.9 billion and increased 33%, and increased 26% non-GAAP (up 23% in constant currency)\n",
    "\n",
    "·        Diluted earnings per share was $2.93 and increased 33%, and increased 26% non-GAAP (up 23% in constant currency)\n",
    "\n",
    "Microsoft completed the acquisition of Activision Blizzard, Inc. (“Activision”) on October 13, 2023. Financial results from the acquired business are reported in the More Personal Computing segment.\n",
    "\n",
    "\"We’ve moved from talking about AI to applying AI at scale,\" said Satya Nadella, chairman and chief executive officer of Microsoft. \"By infusing AI across every layer of our tech stack, we’re winning new customers and helping drive new benefits and productivity gains across every etc. sector.”\n",
    "\"\"\""
   ]
  },
  {
   "cell_type": "code",
   "execution_count": 13,
   "metadata": {},
   "outputs": [
    {
     "name": "stdout",
     "output_type": "stream",
     "text": [
      "\n",
      "  --> SPACE --> space\n",
      "Microsoft --> PROPN --> proper noun\n",
      "Corp. --> PROPN --> proper noun\n",
      "today --> NOUN --> noun\n",
      "announced --> VERB --> verb\n",
      "the --> DET --> determiner\n",
      "following --> VERB --> verb\n",
      "results --> NOUN --> noun\n",
      "for --> ADP --> adposition\n",
      "the --> DET --> determiner\n",
      "quarter --> NOUN --> noun\n",
      "ended --> VERB --> verb\n",
      "December --> PROPN --> proper noun\n",
      "31 --> NUM --> numeral\n",
      ", --> PUNCT --> punctuation\n",
      "2023 --> NUM --> numeral\n",
      ", --> PUNCT --> punctuation\n",
      "as --> SCONJ --> subordinating conjunction\n",
      "compared --> VERB --> verb\n",
      "to --> ADP --> adposition\n",
      "the --> DET --> determiner\n",
      "corresponding --> ADJ --> adjective\n",
      "period --> NOUN --> noun\n",
      "of --> ADP --> adposition\n",
      "last --> ADJ --> adjective\n",
      "fiscal --> ADJ --> adjective\n",
      "year --> NOUN --> noun\n",
      ": --> PUNCT --> punctuation\n",
      "\n",
      "\n",
      " --> SPACE --> space\n",
      "· --> PUNCT --> punctuation\n",
      "        --> SPACE --> space\n",
      "Revenue --> NOUN --> noun\n",
      "was --> AUX --> auxiliary\n",
      "$ --> SYM --> symbol\n",
      "62.0 --> NUM --> numeral\n",
      "billion --> NUM --> numeral\n",
      "and --> CCONJ --> coordinating conjunction\n",
      "increased --> VERB --> verb\n",
      "18 --> NUM --> numeral\n",
      "% --> NOUN --> noun\n",
      "( --> PUNCT --> punctuation\n",
      "up --> ADV --> adverb\n",
      "16 --> NUM --> numeral\n",
      "% --> NOUN --> noun\n",
      "in --> ADP --> adposition\n",
      "constant --> ADJ --> adjective\n",
      "currency --> NOUN --> noun\n",
      ") --> PUNCT --> punctuation\n",
      "\n",
      "\n",
      " --> SPACE --> space\n",
      "· --> PUNCT --> punctuation\n",
      "        --> SPACE --> space\n",
      "Operating --> VERB --> verb\n",
      "income --> NOUN --> noun\n",
      "was --> AUX --> auxiliary\n",
      "$ --> SYM --> symbol\n",
      "27.0 --> NUM --> numeral\n",
      "billion --> NUM --> numeral\n",
      "and --> CCONJ --> coordinating conjunction\n",
      "increased --> VERB --> verb\n",
      "33 --> NUM --> numeral\n",
      "% --> NOUN --> noun\n",
      ", --> PUNCT --> punctuation\n",
      "and --> CCONJ --> coordinating conjunction\n",
      "increased --> VERB --> verb\n",
      "25 --> NUM --> numeral\n",
      "% --> NOUN --> noun\n",
      "non --> NOUN --> noun\n",
      "- --> NOUN --> noun\n",
      "GAAP --> NOUN --> noun\n",
      "( --> PUNCT --> punctuation\n",
      "up --> ADV --> adverb\n",
      "23 --> NUM --> numeral\n",
      "% --> NOUN --> noun\n",
      "in --> ADP --> adposition\n",
      "constant --> ADJ --> adjective\n",
      "currency --> NOUN --> noun\n",
      ") --> PUNCT --> punctuation\n",
      "\n",
      "\n",
      " --> SPACE --> space\n",
      "· --> PUNCT --> punctuation\n",
      "        --> SPACE --> space\n",
      "Net --> ADJ --> adjective\n",
      "income --> NOUN --> noun\n",
      "was --> AUX --> auxiliary\n",
      "$ --> SYM --> symbol\n",
      "21.9 --> NUM --> numeral\n",
      "billion --> NUM --> numeral\n",
      "and --> CCONJ --> coordinating conjunction\n",
      "increased --> VERB --> verb\n",
      "33 --> NUM --> numeral\n",
      "% --> NOUN --> noun\n",
      ", --> PUNCT --> punctuation\n",
      "and --> CCONJ --> coordinating conjunction\n",
      "increased --> VERB --> verb\n",
      "26 --> NUM --> numeral\n",
      "% --> NOUN --> noun\n",
      "non --> NOUN --> noun\n",
      "- --> NOUN --> noun\n",
      "GAAP --> NOUN --> noun\n",
      "( --> PUNCT --> punctuation\n",
      "up --> ADV --> adverb\n",
      "23 --> NUM --> numeral\n",
      "% --> NOUN --> noun\n",
      "in --> ADP --> adposition\n",
      "constant --> ADJ --> adjective\n",
      "currency --> NOUN --> noun\n",
      ") --> PUNCT --> punctuation\n",
      "\n",
      "\n",
      " --> SPACE --> space\n",
      "· --> PUNCT --> punctuation\n",
      "        --> SPACE --> space\n",
      "Diluted --> VERB --> verb\n",
      "earnings --> NOUN --> noun\n",
      "per --> ADP --> adposition\n",
      "share --> NOUN --> noun\n",
      "was --> AUX --> auxiliary\n",
      "$ --> SYM --> symbol\n",
      "2.93 --> NUM --> numeral\n",
      "and --> CCONJ --> coordinating conjunction\n",
      "increased --> VERB --> verb\n",
      "33 --> NUM --> numeral\n",
      "% --> NOUN --> noun\n",
      ", --> PUNCT --> punctuation\n",
      "and --> CCONJ --> coordinating conjunction\n",
      "increased --> VERB --> verb\n",
      "26 --> NUM --> numeral\n",
      "% --> NOUN --> noun\n",
      "non --> NOUN --> noun\n",
      "- --> NOUN --> noun\n",
      "GAAP --> NOUN --> noun\n",
      "( --> PUNCT --> punctuation\n",
      "up --> ADV --> adverb\n",
      "23 --> NUM --> numeral\n",
      "% --> NOUN --> noun\n",
      "in --> ADP --> adposition\n",
      "constant --> ADJ --> adjective\n",
      "currency --> NOUN --> noun\n",
      ") --> PUNCT --> punctuation\n",
      "\n",
      "\n",
      " --> SPACE --> space\n",
      "Microsoft --> PROPN --> proper noun\n",
      "completed --> VERB --> verb\n",
      "the --> DET --> determiner\n",
      "acquisition --> NOUN --> noun\n",
      "of --> ADP --> adposition\n",
      "Activision --> PROPN --> proper noun\n",
      "Blizzard --> PROPN --> proper noun\n",
      ", --> PUNCT --> punctuation\n",
      "Inc. --> PROPN --> proper noun\n",
      "( --> PUNCT --> punctuation\n",
      "“ --> PUNCT --> punctuation\n",
      "Activision --> PROPN --> proper noun\n",
      "” --> PUNCT --> punctuation\n",
      ") --> PUNCT --> punctuation\n",
      "on --> ADP --> adposition\n",
      "October --> PROPN --> proper noun\n",
      "13 --> NUM --> numeral\n",
      ", --> PUNCT --> punctuation\n",
      "2023 --> NUM --> numeral\n",
      ". --> PUNCT --> punctuation\n",
      "Financial --> ADJ --> adjective\n",
      "results --> NOUN --> noun\n",
      "from --> ADP --> adposition\n",
      "the --> DET --> determiner\n",
      "acquired --> VERB --> verb\n",
      "business --> NOUN --> noun\n",
      "are --> AUX --> auxiliary\n",
      "reported --> VERB --> verb\n",
      "in --> ADP --> adposition\n",
      "the --> DET --> determiner\n",
      "More --> ADJ --> adjective\n",
      "Personal --> PROPN --> proper noun\n",
      "Computing --> PROPN --> proper noun\n",
      "segment --> NOUN --> noun\n",
      ". --> PUNCT --> punctuation\n",
      "\n",
      "\n",
      " --> SPACE --> space\n",
      "\" --> PUNCT --> punctuation\n",
      "We --> PRON --> pronoun\n",
      "’ve --> AUX --> auxiliary\n",
      "moved --> VERB --> verb\n",
      "from --> ADP --> adposition\n",
      "talking --> VERB --> verb\n",
      "about --> ADP --> adposition\n",
      "AI --> PROPN --> proper noun\n",
      "to --> ADP --> adposition\n",
      "applying --> VERB --> verb\n",
      "AI --> PROPN --> proper noun\n",
      "at --> ADP --> adposition\n",
      "scale --> NOUN --> noun\n",
      ", --> PUNCT --> punctuation\n",
      "\" --> PUNCT --> punctuation\n",
      "said --> VERB --> verb\n",
      "Satya --> PROPN --> proper noun\n",
      "Nadella --> PROPN --> proper noun\n",
      ", --> PUNCT --> punctuation\n",
      "chairman --> NOUN --> noun\n",
      "and --> CCONJ --> coordinating conjunction\n",
      "chief --> ADJ --> adjective\n",
      "executive --> ADJ --> adjective\n",
      "officer --> NOUN --> noun\n",
      "of --> ADP --> adposition\n",
      "Microsoft --> PROPN --> proper noun\n",
      ". --> PUNCT --> punctuation\n",
      "\" --> PUNCT --> punctuation\n",
      "By --> ADP --> adposition\n",
      "infusing --> VERB --> verb\n",
      "AI --> PROPN --> proper noun\n",
      "across --> ADP --> adposition\n",
      "every --> DET --> determiner\n",
      "layer --> NOUN --> noun\n",
      "of --> ADP --> adposition\n",
      "our --> PRON --> pronoun\n",
      "tech --> NOUN --> noun\n",
      "stack --> NOUN --> noun\n",
      ", --> PUNCT --> punctuation\n",
      "we --> PRON --> pronoun\n",
      "’re --> AUX --> auxiliary\n",
      "winning --> VERB --> verb\n",
      "new --> ADJ --> adjective\n",
      "customers --> NOUN --> noun\n",
      "and --> CCONJ --> coordinating conjunction\n",
      "helping --> AUX --> auxiliary\n",
      "drive --> VERB --> verb\n",
      "new --> ADJ --> adjective\n",
      "benefits --> NOUN --> noun\n",
      "and --> CCONJ --> coordinating conjunction\n",
      "productivity --> NOUN --> noun\n",
      "gains --> NOUN --> noun\n",
      "across --> ADP --> adposition\n",
      "every --> DET --> determiner\n",
      "etc --> X --> other\n",
      ". --> NOUN --> noun\n",
      "sector --> NOUN --> noun\n",
      ". --> PUNCT --> punctuation\n",
      "” --> PUNCT --> punctuation\n",
      "\n",
      " --> SPACE --> space\n"
     ]
    }
   ],
   "source": [
    "doc = nlp(earnings_text)\n",
    "for token in doc:\n",
    "    print(token.text, \"-->\", token.pos_, \"-->\", spacy.explain(token.pos_))"
   ]
  },
  {
   "cell_type": "code",
   "execution_count": 17,
   "metadata": {},
   "outputs": [
    {
     "data": {
      "text/plain": [
       "[Microsoft,\n",
       " Corp.,\n",
       " today,\n",
       " announced,\n",
       " the,\n",
       " following,\n",
       " results,\n",
       " for,\n",
       " the,\n",
       " quarter,\n",
       " ended,\n",
       " December,\n",
       " 31,\n",
       " 2023,\n",
       " as,\n",
       " compared,\n",
       " to,\n",
       " the,\n",
       " corresponding,\n",
       " period]"
      ]
     },
     "execution_count": 17,
     "metadata": {},
     "output_type": "execute_result"
    }
   ],
   "source": [
    "filtered_tokens = []\n",
    "for token in doc:\n",
    "    if token.pos_ not in ['SPACE', 'X', \"PUNCT\"]:\n",
    "        filtered_tokens.append(token)\n",
    "\n",
    "\n",
    "filtered_tokens[:20]"
   ]
  },
  {
   "cell_type": "code",
   "execution_count": 18,
   "metadata": {},
   "outputs": [
    {
     "data": {
      "text/plain": [
       "{103: 12,\n",
       " 96: 17,\n",
       " 92: 50,\n",
       " 100: 23,\n",
       " 90: 8,\n",
       " 85: 21,\n",
       " 93: 22,\n",
       " 97: 35,\n",
       " 98: 1,\n",
       " 84: 14,\n",
       " 87: 8,\n",
       " 99: 4,\n",
       " 89: 10,\n",
       " 86: 4,\n",
       " 95: 3,\n",
       " 101: 1}"
      ]
     },
     "execution_count": 18,
     "metadata": {},
     "output_type": "execute_result"
    }
   ],
   "source": [
    "count = doc.count_by(spacy.attrs.POS)\n",
    "count"
   ]
  },
  {
   "cell_type": "code",
   "execution_count": 19,
   "metadata": {},
   "outputs": [
    {
     "data": {
      "text/plain": [
       "'SPACE'"
      ]
     },
     "execution_count": 19,
     "metadata": {},
     "output_type": "execute_result"
    }
   ],
   "source": [
    "doc.vocab[103].text"
   ]
  },
  {
   "cell_type": "code",
   "execution_count": 21,
   "metadata": {},
   "outputs": [
    {
     "name": "stdout",
     "output_type": "stream",
     "text": [
      "SPACE --> 12\n",
      "PROPN --> 17\n",
      "NOUN --> 50\n",
      "VERB --> 23\n",
      "DET --> 8\n",
      "ADP --> 21\n",
      "NUM --> 22\n",
      "PUNCT --> 35\n",
      "SCONJ --> 1\n",
      "ADJ --> 14\n",
      "AUX --> 8\n",
      "SYM --> 4\n",
      "CCONJ --> 10\n",
      "ADV --> 4\n",
      "PRON --> 3\n",
      "X --> 1\n"
     ]
    }
   ],
   "source": [
    "for k, v in count.items():\n",
    "    print(doc.vocab[k].text, \"-->\", v)"
   ]
  },
  {
   "cell_type": "code",
   "execution_count": null,
   "metadata": {},
   "outputs": [],
   "source": []
  }
 ],
 "metadata": {
  "kernelspec": {
   "display_name": "Python 3",
   "language": "python",
   "name": "python3"
  },
  "language_info": {
   "codemirror_mode": {
    "name": "ipython",
    "version": 3
   },
   "file_extension": ".py",
   "mimetype": "text/x-python",
   "name": "python",
   "nbconvert_exporter": "python",
   "pygments_lexer": "ipython3",
   "version": "3.12.1"
  }
 },
 "nbformat": 4,
 "nbformat_minor": 2
}
